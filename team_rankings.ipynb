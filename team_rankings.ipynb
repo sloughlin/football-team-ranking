{
 "cells": [
  {
   "cell_type": "markdown",
   "metadata": {},
   "source": [
    "Using data from https://www.pro-football-reference.com/years/2015/index.htm\n",
    "\n",
    "Vector of ranking values $\\mathbf{r}$, with values indicating strength of team i. \n",
    "$$s_i = \\frac{1}{n_i} \\sum_{j=i}^{N}a_{ij}r_j$$\n",
    "$a_{i j}$ nonnegative number depending on outcome of game from matrix A, N total number of teams, $n_i$ number of games played by team i. \n",
    "\n",
    "A - matrix of game outcomes, $a_{i j}$ is 1 if team $i$ wins, 0.5 if it is a tie, and 0 if team $i$ loses. Normalizes data so teams cannot gain a higher score by playing more games. \n",
    "\n",
    "$\\mathbf{r}$ is an eigenvector of A. \n",
    "\n",
    "The Perron-Frobenius Theorem: If A has nonnegative entries, then there exists an eigenvector with nonnegative values corresponding to a positive eigenvalue. If A is irreducible, then $\\mathbf{r}$ has strictly pos entries, is unique and simple, and the corresponding eigenvalue is the largest eigenvalue of A in absolute value (equal to the spectral radius of A)\n",
    "\n",
    "We can calculate $\\mathbf{r}$ using the power method: \n",
    "$$\\lim_{n \\to \\infty} \\frac{A^n\\mathbf{r}_0}{|A^n\\mathbf{r}_0|} = \\mathbf{r}$$\n",
    "for any nonnegative vector $\\mathbf{r}_0$.\n"
   ]
  },
  {
   "cell_type": "markdown",
   "metadata": {},
   "source": [
    "About the data: This data is drawn from the 2015-2016 AFC West Season, with special guest the Detroit Lions because the San Diego Chargers are apparently terrible and were winless without them.\n",
    "\n",
    "It was surprisingly difficult to find win and loss data for football, so this data needs a lot of preprocessing."
   ]
  },
  {
   "cell_type": "code",
   "execution_count": 1,
   "metadata": {},
   "outputs": [],
   "source": [
    "import numpy as np\n",
    "import pandas as pd\n",
    "import matplotlib.pyplot as plt\n",
    "import csv\n",
    "import glob\n",
    "import operator"
   ]
  },
  {
   "cell_type": "code",
   "execution_count": 2,
   "metadata": {},
   "outputs": [],
   "source": [
    "#Team names:\n",
    "with open('team_data.csv', 'rt') as f:\n",
    "    reader = csv.reader(f)\n",
    "    teams = list(reader)\n",
    "teams = np.sort(np.array(teams).flatten())"
   ]
  },
  {
   "cell_type": "code",
   "execution_count": 3,
   "metadata": {},
   "outputs": [],
   "source": [
    "#Math Function Definitions:\n",
    "\n",
    "def get_r(A, r_0, max_iter=1000):\n",
    "    #USAGE: matrix of some win/loss metric A\n",
    "    #       initial value r_0\n",
    "    #       max_iter: if 1, returns Ar_0; if 2, returns A^2r_0, if large, returns limit as n-> inf of A^nr_0\n",
    "    #RETURNS: approximate eigenvector r\n",
    "    \n",
    "    r_prev = np.zeros(len(A))\n",
    "    for k in range(max_iter):\n",
    "        A_k = np.linalg.matrix_power(A, k)\n",
    "        r = A_k @ r_0 / np.linalg.norm(A_k @ r_0)\n",
    "        if np.isclose(r, r_prev).all():\n",
    "            break\n",
    "        else:\n",
    "            r_prev = r\n",
    "    return r\n",
    "\n",
    "def get_linear_rankings(A, r):\n",
    "    #USAGE: matrix of some win/loss metric A\n",
    "    #       approx. eigenvector r\n",
    "    #RETURNS: score vector S\n",
    "    \n",
    "    S = np.zeros(len(r))\n",
    "    m, n = A.shape\n",
    "    for i in range(m):\n",
    "        for j in range(n):\n",
    "            S[i] = 1/(len(A)-1) * A[i][j]*r[j]\n",
    "    return S\n",
    "\n",
    "\n",
    "def print_rankings(S, teams=teams):\n",
    "    #USAGE: vector S of scores\n",
    "    #RETURNS: None\n",
    "    #Prints S and corresponding team names\n",
    "    S = np.sort(S)[::-1] #sort high to low\n",
    "    print(\"________Team Scores________\")\n",
    "    for i in range(len(teams)):\n",
    "        print(\"{0}: {1:0.4f}\".format(teams[i], S[i]))"
   ]
  },
  {
   "cell_type": "markdown",
   "metadata": {},
   "source": [
    "**Function For Importing Data**"
   ]
  },
  {
   "cell_type": "code",
   "execution_count": 4,
   "metadata": {},
   "outputs": [],
   "source": [
    "def import_data(data_column):\n",
    "    #USAGE: takes in column to store in data matrix\n",
    "    #RETURNS: data matrix\n",
    "    \n",
    "    path = \"data/*.csv\"\n",
    "\n",
    "    allFiles = glob.glob(path)\n",
    "\n",
    "    data = np.zeros((len(teams), len(teams))) #will store wins, losses here\n",
    "\n",
    "    for file_ in allFiles:\n",
    "    #     df = pd.read_csv(file_,index_col=None, header=0)\n",
    "        #Get first line of file (team name):\n",
    "        with open(file_) as f:\n",
    "            reader = csv.reader(f)\n",
    "            team_name = next(reader)[0]  #get name of team i  \n",
    "        i = np.where(teams == team_name)[0][0] #index of team name in teams\n",
    "\n",
    "        df = pd.read_csv(file_,skiprows=1) #skip first row\n",
    "    #     df.head(5)\n",
    "\n",
    "        #Data Processing: \n",
    "        #For now, change W -> 1, L -> 0, T or D (unsure of label in dataset) -> 0.5\n",
    "#         print(team_name)\n",
    "#         print(df.head(5))\n",
    "        df.loc[df['win'] == \"W\", 'win'] = 1\n",
    "        df.loc[df['win'] == \"L\", 'win'] = 0\n",
    "    #     df.loc[df['win'] == \"T\", 'win'] = 0.5\n",
    "\n",
    "        seen = set()\n",
    "        for index, row in df.iterrows():\n",
    "            #For now, get rid of teams not in AFC West:\n",
    "            if row[\"opp\"] not in teams:\n",
    "    #             print(row[\"opp\"])\n",
    "                df.drop(index, inplace=True)\n",
    "                continue\n",
    "\n",
    "            #For now, drop second game: \n",
    "            elif row[\"opp\"] not in seen:\n",
    "                seen.add(row[\"opp\"])\n",
    "            else:\n",
    "                df.drop(index, inplace=True)\n",
    "\n",
    "                continue\n",
    "\n",
    "            j = np.where(teams == row[\"opp\"])[0][0] #index of opposing team name in teams\n",
    "            data[i][j] = row[data_column]\n",
    "    #         print(team_name, row[\"opp\"], row[\"win\"])\n",
    "\n",
    "\n",
    "    data = data.T #to make not opposing team on columns\n",
    "#     np.fill_diagonal(data, 0.5) #set all diagonal elements (where team i = team j) to 0.5\n",
    "    return data"
   ]
  },
  {
   "cell_type": "code",
   "execution_count": 5,
   "metadata": {},
   "outputs": [
    {
     "data": {
      "text/html": [
       "<div>\n",
       "<style scoped>\n",
       "    .dataframe tbody tr th:only-of-type {\n",
       "        vertical-align: middle;\n",
       "    }\n",
       "\n",
       "    .dataframe tbody tr th {\n",
       "        vertical-align: top;\n",
       "    }\n",
       "\n",
       "    .dataframe thead th {\n",
       "        text-align: right;\n",
       "    }\n",
       "</style>\n",
       "<table border=\"1\" class=\"dataframe\">\n",
       "  <thead>\n",
       "    <tr style=\"text-align: right;\">\n",
       "      <th></th>\n",
       "      <th>Denver Broncos</th>\n",
       "      <th>Detroit Lions</th>\n",
       "      <th>Kansas City Chiefs</th>\n",
       "      <th>Oakland Raiders</th>\n",
       "      <th>San Diego Chargers</th>\n",
       "    </tr>\n",
       "  </thead>\n",
       "  <tbody>\n",
       "    <tr>\n",
       "      <th>Denver Broncos</th>\n",
       "      <td>0.0</td>\n",
       "      <td>0.0</td>\n",
       "      <td>0.0</td>\n",
       "      <td>0.0</td>\n",
       "      <td>0.0</td>\n",
       "    </tr>\n",
       "    <tr>\n",
       "      <th>Detroit Lions</th>\n",
       "      <td>1.0</td>\n",
       "      <td>0.0</td>\n",
       "      <td>1.0</td>\n",
       "      <td>0.0</td>\n",
       "      <td>1.0</td>\n",
       "    </tr>\n",
       "    <tr>\n",
       "      <th>Kansas City Chiefs</th>\n",
       "      <td>1.0</td>\n",
       "      <td>0.0</td>\n",
       "      <td>0.0</td>\n",
       "      <td>0.0</td>\n",
       "      <td>0.0</td>\n",
       "    </tr>\n",
       "    <tr>\n",
       "      <th>Oakland Raiders</th>\n",
       "      <td>1.0</td>\n",
       "      <td>1.0</td>\n",
       "      <td>1.0</td>\n",
       "      <td>0.0</td>\n",
       "      <td>0.0</td>\n",
       "    </tr>\n",
       "    <tr>\n",
       "      <th>San Diego Chargers</th>\n",
       "      <td>1.0</td>\n",
       "      <td>0.0</td>\n",
       "      <td>1.0</td>\n",
       "      <td>1.0</td>\n",
       "      <td>0.0</td>\n",
       "    </tr>\n",
       "  </tbody>\n",
       "</table>\n",
       "</div>"
      ],
      "text/plain": [
       "                    Denver Broncos  Detroit Lions  Kansas City Chiefs  \\\n",
       "Denver Broncos                 0.0            0.0                 0.0   \n",
       "Detroit Lions                  1.0            0.0                 1.0   \n",
       "Kansas City Chiefs             1.0            0.0                 0.0   \n",
       "Oakland Raiders                1.0            1.0                 1.0   \n",
       "San Diego Chargers             1.0            0.0                 1.0   \n",
       "\n",
       "                    Oakland Raiders  San Diego Chargers  \n",
       "Denver Broncos                  0.0                 0.0  \n",
       "Detroit Lions                   0.0                 1.0  \n",
       "Kansas City Chiefs              0.0                 0.0  \n",
       "Oakland Raiders                 0.0                 0.0  \n",
       "San Diego Chargers              1.0                 0.0  "
      ]
     },
     "execution_count": 5,
     "metadata": {},
     "output_type": "execute_result"
    }
   ],
   "source": [
    "#Read in data:\n",
    "data_wins = import_data(\"win\")\n",
    "#Using aij=1 if team i won, 0 if team i lost, 0.5 if tie:\n",
    "A = data_wins.copy()\n",
    "\n",
    "df_wins = pd.DataFrame(data_wins, index=teams, columns=teams)\n",
    "df_wins.head(6)"
   ]
  },
  {
   "cell_type": "code",
   "execution_count": 6,
   "metadata": {},
   "outputs": [
    {
     "name": "stdout",
     "output_type": "stream",
     "text": [
      "________Team Scores________\n",
      "Denver Broncos: 0.1443\n",
      "Detroit Lions: 0.0000\n",
      "Kansas City Chiefs: 0.0000\n",
      "Oakland Raiders: 0.0000\n",
      "San Diego Chargers: 0.0000\n"
     ]
    }
   ],
   "source": [
    "#Math: Variable definitions\n",
    "\n",
    "#If we want Ar_0, set max_iter to 1. \n",
    "#If we want A^2r_0, set max_iter to 2\n",
    "#If we want the limit as n approaches infinity, set max_iter to a large number\n",
    "max_iter = 1000\n",
    "r_0 = np.ones(len(A))\n",
    "r = get_r(A, r_0, max_iter)\n",
    "rank = get_linear_rankings(A, r)\n",
    "print_rankings(rank)"
   ]
  },
  {
   "cell_type": "code",
   "execution_count": 7,
   "metadata": {},
   "outputs": [
    {
     "data": {
      "text/html": [
       "<div>\n",
       "<style scoped>\n",
       "    .dataframe tbody tr th:only-of-type {\n",
       "        vertical-align: middle;\n",
       "    }\n",
       "\n",
       "    .dataframe tbody tr th {\n",
       "        vertical-align: top;\n",
       "    }\n",
       "\n",
       "    .dataframe thead th {\n",
       "        text-align: right;\n",
       "    }\n",
       "</style>\n",
       "<table border=\"1\" class=\"dataframe\">\n",
       "  <thead>\n",
       "    <tr style=\"text-align: right;\">\n",
       "      <th></th>\n",
       "      <th>Denver Broncos</th>\n",
       "      <th>Detroit Lions</th>\n",
       "      <th>Kansas City Chiefs</th>\n",
       "      <th>Oakland Raiders</th>\n",
       "      <th>San Diego Chargers</th>\n",
       "    </tr>\n",
       "  </thead>\n",
       "  <tbody>\n",
       "    <tr>\n",
       "      <th>Denver Broncos</th>\n",
       "      <td>0.500000</td>\n",
       "      <td>0.342105</td>\n",
       "      <td>0.438596</td>\n",
       "      <td>0.392857</td>\n",
       "      <td>0.181818</td>\n",
       "    </tr>\n",
       "    <tr>\n",
       "      <th>Detroit Lions</th>\n",
       "      <td>0.657895</td>\n",
       "      <td>0.500000</td>\n",
       "      <td>0.807018</td>\n",
       "      <td>0.424242</td>\n",
       "      <td>0.539683</td>\n",
       "    </tr>\n",
       "    <tr>\n",
       "      <th>Kansas City Chiefs</th>\n",
       "      <td>0.561404</td>\n",
       "      <td>0.192982</td>\n",
       "      <td>0.500000</td>\n",
       "      <td>0.375000</td>\n",
       "      <td>0.105263</td>\n",
       "    </tr>\n",
       "    <tr>\n",
       "      <th>Oakland Raiders</th>\n",
       "      <td>0.607143</td>\n",
       "      <td>0.575758</td>\n",
       "      <td>0.625000</td>\n",
       "      <td>0.500000</td>\n",
       "      <td>0.441176</td>\n",
       "    </tr>\n",
       "    <tr>\n",
       "      <th>San Diego Chargers</th>\n",
       "      <td>0.818182</td>\n",
       "      <td>0.460317</td>\n",
       "      <td>0.894737</td>\n",
       "      <td>0.558824</td>\n",
       "      <td>0.500000</td>\n",
       "    </tr>\n",
       "  </tbody>\n",
       "</table>\n",
       "</div>"
      ],
      "text/plain": [
       "                    Denver Broncos  Detroit Lions  Kansas City Chiefs  \\\n",
       "Denver Broncos            0.500000       0.342105            0.438596   \n",
       "Detroit Lions             0.657895       0.500000            0.807018   \n",
       "Kansas City Chiefs        0.561404       0.192982            0.500000   \n",
       "Oakland Raiders           0.607143       0.575758            0.625000   \n",
       "San Diego Chargers        0.818182       0.460317            0.894737   \n",
       "\n",
       "                    Oakland Raiders  San Diego Chargers  \n",
       "Denver Broncos             0.392857            0.181818  \n",
       "Detroit Lions              0.424242            0.539683  \n",
       "Kansas City Chiefs         0.375000            0.105263  \n",
       "Oakland Raiders            0.500000            0.441176  \n",
       "San Diego Chargers         0.558824            0.500000  "
      ]
     },
     "execution_count": 7,
     "metadata": {},
     "output_type": "execute_result"
    }
   ],
   "source": [
    "#Recalculate A s.t. aij=(Sij+1)/(Sij+Sji+2)\n",
    "def point_scoring(data):\n",
    "    #USAGE: rank teams based on relative scores per game\n",
    "    #INPUT: data matrix\n",
    "    #RETURNS: scoring matrix A\n",
    "    A = np.zeros(data.shape)\n",
    "\n",
    "    m, n = data.shape\n",
    "    for i in range(m):\n",
    "        for j in range(n):\n",
    "            A[i][j] = (data[i][j]+1) / (data[i][j] + data[j][i] + 2)\n",
    "    return A\n",
    "#will store each teams score here\n",
    "S = import_data('sc')\n",
    "#Process data:\n",
    "# aij=(Sij+1)/(Sij+Sji+2)\n",
    "A = point_scoring(S)\n",
    "\n",
    "df_points = pd.DataFrame(A, index=teams, columns=teams)\n",
    "df_points.head(5)"
   ]
  },
  {
   "cell_type": "code",
   "execution_count": 8,
   "metadata": {},
   "outputs": [
    {
     "name": "stdout",
     "output_type": "stream",
     "text": [
      "________Team Scores________\n",
      "Denver Broncos: 3.2654\n",
      "Detroit Lions: 3.1446\n",
      "Kansas City Chiefs: 2.2509\n",
      "Oakland Raiders: 2.0712\n",
      "San Diego Chargers: 1.7679\n"
     ]
    }
   ],
   "source": [
    "#Math: Variable definitions\n",
    "\n",
    "max_iter = 1000\n",
    "r_0 = np.ones(len(A))\n",
    "# r = get_r(A, r_0, max_iter)\n",
    "# rank = get_linear_rankings(A, r)\n",
    "rank = np.sum(A, axis=0)\n",
    "print_rankings(rank)"
   ]
  },
  {
   "cell_type": "code",
   "execution_count": 10,
   "metadata": {},
   "outputs": [
    {
     "data": {
      "text/plain": [
       "<matplotlib.legend.Legend at 0x7fe2a4eaaba8>"
      ]
     },
     "execution_count": 10,
     "metadata": {},
     "output_type": "execute_result"
    },
    {
     "data": {
      "image/png": "[encoded data removed]",
      "text/plain": [
       "<Figure size 432x288 with 1 Axes>"
      ]
     },
     "metadata": {},
     "output_type": "display_data"
    }
   ],
   "source": [
    "#Make nonlinear so that high scoring games dont overwhelm rankings:\n",
    "def h(x):\n",
    "    return 0.5 + 0.5 * np.sign(x - 1/2) * np.sqrt(abs(2*x - 1))\n",
    "def point_ranking_nonlinear(data):\n",
    "    #USAGE: rank teams based on relative scores per game\n",
    "    #INPUT: data matrix\n",
    "    #RETURNS: nonlinear scoring matrix A\n",
    "    A = point_scoring(data)\n",
    "    h_A = np.zeros(A.shape)\n",
    "    m, n = A.shape\n",
    "    for i in range(m):\n",
    "        for j in range(n):\n",
    "            h_A[i][j] = h(A[i][j])\n",
    "    return h_A\n",
    "#Plot of h vs x:\n",
    "x = np.linspace(0, 1, 50)\n",
    "y = np.linspace(0, 1, 50)\n",
    "plt.plot(x, h(x), label=r'$h(x)$')\n",
    "plt.plot(x, y, '--')\n",
    "plt.title(\"Plot of Point Distribution Function $h(x)$\")\n",
    "plt.xlabel(\"$x$\")\n",
    "plt.ylabel(\"$h(x)$\")\n",
    "plt.legend()"
   ]
  },
  {
   "cell_type": "code",
   "execution_count": 11,
   "metadata": {},
   "outputs": [
    {
     "data": {
      "text/html": [
       "<div>\n",
       "<style scoped>\n",
       "    .dataframe tbody tr th:only-of-type {\n",
       "        vertical-align: middle;\n",
       "    }\n",
       "\n",
       "    .dataframe tbody tr th {\n",
       "        vertical-align: top;\n",
       "    }\n",
       "\n",
       "    .dataframe thead th {\n",
       "        text-align: right;\n",
       "    }\n",
       "</style>\n",
       "<table border=\"1\" class=\"dataframe\">\n",
       "  <thead>\n",
       "    <tr style=\"text-align: right;\">\n",
       "      <th></th>\n",
       "      <th>Denver Broncos</th>\n",
       "      <th>Detroit Lions</th>\n",
       "      <th>Kansas City Chiefs</th>\n",
       "      <th>Oakland Raiders</th>\n",
       "      <th>San Diego Chargers</th>\n",
       "    </tr>\n",
       "  </thead>\n",
       "  <tbody>\n",
       "    <tr>\n",
       "      <th>Denver Broncos</th>\n",
       "      <td>0.0</td>\n",
       "      <td>12.0</td>\n",
       "      <td>24.0</td>\n",
       "      <td>10.0</td>\n",
       "      <td>3.0</td>\n",
       "    </tr>\n",
       "    <tr>\n",
       "      <th>Detroit Lions</th>\n",
       "      <td>24.0</td>\n",
       "      <td>0.0</td>\n",
       "      <td>45.0</td>\n",
       "      <td>13.0</td>\n",
       "      <td>33.0</td>\n",
       "    </tr>\n",
       "    <tr>\n",
       "      <th>Kansas City Chiefs</th>\n",
       "      <td>31.0</td>\n",
       "      <td>10.0</td>\n",
       "      <td>0.0</td>\n",
       "      <td>20.0</td>\n",
       "      <td>3.0</td>\n",
       "    </tr>\n",
       "    <tr>\n",
       "      <th>Oakland Raiders</th>\n",
       "      <td>16.0</td>\n",
       "      <td>18.0</td>\n",
       "      <td>34.0</td>\n",
       "      <td>0.0</td>\n",
       "      <td>29.0</td>\n",
       "    </tr>\n",
       "    <tr>\n",
       "      <th>San Diego Chargers</th>\n",
       "      <td>17.0</td>\n",
       "      <td>28.0</td>\n",
       "      <td>33.0</td>\n",
       "      <td>37.0</td>\n",
       "      <td>0.0</td>\n",
       "    </tr>\n",
       "  </tbody>\n",
       "</table>\n",
       "</div>"
      ],
      "text/plain": [
       "                    Denver Broncos  Detroit Lions  Kansas City Chiefs  \\\n",
       "Denver Broncos                 0.0           12.0                24.0   \n",
       "Detroit Lions                 24.0            0.0                45.0   \n",
       "Kansas City Chiefs            31.0           10.0                 0.0   \n",
       "Oakland Raiders               16.0           18.0                34.0   \n",
       "San Diego Chargers            17.0           28.0                33.0   \n",
       "\n",
       "                    Oakland Raiders  San Diego Chargers  \n",
       "Denver Broncos                 10.0                 3.0  \n",
       "Detroit Lions                  13.0                33.0  \n",
       "Kansas City Chiefs             20.0                 3.0  \n",
       "Oakland Raiders                 0.0                29.0  \n",
       "San Diego Chargers             37.0                 0.0  "
      ]
     },
     "execution_count": 11,
     "metadata": {},
     "output_type": "execute_result"
    }
   ],
   "source": [
    "#use same score-based data from before\n",
    "data_nonlinear_points = S \n",
    "A = point_ranking_nonlinear(data_nonlinear_points)\n",
    "\n",
    "df_points = pd.DataFrame(S, index=teams, columns=teams)\n",
    "df_points.head(5)"
   ]
  },
  {
   "cell_type": "code",
   "execution_count": 12,
   "metadata": {},
   "outputs": [
    {
     "data": {
      "text/html": [
       "<div>\n",
       "<style scoped>\n",
       "    .dataframe tbody tr th:only-of-type {\n",
       "        vertical-align: middle;\n",
       "    }\n",
       "\n",
       "    .dataframe tbody tr th {\n",
       "        vertical-align: top;\n",
       "    }\n",
       "\n",
       "    .dataframe thead th {\n",
       "        text-align: right;\n",
       "    }\n",
       "</style>\n",
       "<table border=\"1\" class=\"dataframe\">\n",
       "  <thead>\n",
       "    <tr style=\"text-align: right;\">\n",
       "      <th></th>\n",
       "      <th>Denver Broncos</th>\n",
       "      <th>Detroit Lions</th>\n",
       "      <th>Kansas City Chiefs</th>\n",
       "      <th>Oakland Raiders</th>\n",
       "      <th>San Diego Chargers</th>\n",
       "    </tr>\n",
       "  </thead>\n",
       "  <tbody>\n",
       "    <tr>\n",
       "      <th>Denver Broncos</th>\n",
       "      <td>0.500000</td>\n",
       "      <td>0.219024</td>\n",
       "      <td>0.324781</td>\n",
       "      <td>0.268545</td>\n",
       "      <td>0.101138</td>\n",
       "    </tr>\n",
       "    <tr>\n",
       "      <th>Detroit Lions</th>\n",
       "      <td>0.780976</td>\n",
       "      <td>0.500000</td>\n",
       "      <td>0.891802</td>\n",
       "      <td>0.305375</td>\n",
       "      <td>0.640859</td>\n",
       "    </tr>\n",
       "    <tr>\n",
       "      <th>Kansas City Chiefs</th>\n",
       "      <td>0.675219</td>\n",
       "      <td>0.108198</td>\n",
       "      <td>0.500000</td>\n",
       "      <td>0.250000</td>\n",
       "      <td>0.055738</td>\n",
       "    </tr>\n",
       "    <tr>\n",
       "      <th>Oakland Raiders</th>\n",
       "      <td>0.731455</td>\n",
       "      <td>0.694625</td>\n",
       "      <td>0.750000</td>\n",
       "      <td>0.500000</td>\n",
       "      <td>0.328501</td>\n",
       "    </tr>\n",
       "    <tr>\n",
       "      <th>San Diego Chargers</th>\n",
       "      <td>0.898862</td>\n",
       "      <td>0.359141</td>\n",
       "      <td>0.944262</td>\n",
       "      <td>0.671499</td>\n",
       "      <td>0.500000</td>\n",
       "    </tr>\n",
       "  </tbody>\n",
       "</table>\n",
       "</div>"
      ],
      "text/plain": [
       "                    Denver Broncos  Detroit Lions  Kansas City Chiefs  \\\n",
       "Denver Broncos            0.500000       0.219024            0.324781   \n",
       "Detroit Lions             0.780976       0.500000            0.891802   \n",
       "Kansas City Chiefs        0.675219       0.108198            0.500000   \n",
       "Oakland Raiders           0.731455       0.694625            0.750000   \n",
       "San Diego Chargers        0.898862       0.359141            0.944262   \n",
       "\n",
       "                    Oakland Raiders  San Diego Chargers  \n",
       "Denver Broncos             0.268545            0.101138  \n",
       "Detroit Lions              0.305375            0.640859  \n",
       "Kansas City Chiefs         0.250000            0.055738  \n",
       "Oakland Raiders            0.500000            0.328501  \n",
       "San Diego Chargers         0.671499            0.500000  "
      ]
     },
     "execution_count": 12,
     "metadata": {},
     "output_type": "execute_result"
    }
   ],
   "source": [
    "#Dataframe of scoring based on points: \n",
    "df_scoring = pd.DataFrame(A, index=teams, columns=teams)\n",
    "df_scoring.head(5)"
   ]
  },
  {
   "cell_type": "code",
   "execution_count": 13,
   "metadata": {},
   "outputs": [
    {
     "name": "stdout",
     "output_type": "stream",
     "text": [
      "________Team Scores________\n",
      "Denver Broncos: 3.5865\n",
      "Detroit Lions: 3.4108\n",
      "Kansas City Chiefs: 1.9954\n",
      "Oakland Raiders: 1.8810\n",
      "San Diego Chargers: 1.6262\n"
     ]
    }
   ],
   "source": [
    "max_iter = 1000\n",
    "r_0 = np.ones(len(A))\n",
    "rank = np.sum(A, axis=0)\n",
    "print_rankings(rank)"
   ]
  },
  {
   "cell_type": "markdown",
   "metadata": {},
   "source": [
    "New formulation: to combat weak schedules, we have a new formula for determining the ranking vector $\\mathbf{r}$:\n",
    "$$ \\mathbf{r}_i = \\frac{1}{n_i} \\sum_{j=1}^{N}f(e_{ij}r_j)$$\n",
    "where $e_{ij}$ is a number determined from the outcome of the game between i, j; $r_j$ is the rank of team $j$; and $f$ is a monotonically increasing function where $f(0) = 0$, $f(\\infty)=1$.\n",
    "\n",
    "Define \n",
    "$$ F_i(\\mathbf{r}) = \\frac{1}{n_i} \\sum_{j=1}^{N}f(e_{ij}r_j)$$\n",
    "\n",
    "If $f(0) > 0$, and $f$ is strictly concave s.t. $\\forall_{t \\in (0, 1)} f(tx) > tf(x)$, then there is a unique, fixed point of the map $F(\\mathbf{r})$ where for any positive inital vector $\\mathbf{r}_0$:\n",
    "$$ \\lim_{n \\to \\infty} F^n(\\mathbf{r}_0) = \\mathbf{r}$$\n",
    "\n",
    "An example function $f$:\n",
    "$$ f(x) = \\frac{0.05x + x^2}{2+0.05x+x^2}$$\n",
    "\n",
    "An example function for determining $e_{ij}$:\n",
    "$$e_{ij} = \\frac{5 + S_{ij} + S_{ij}^{\\frac{2}{3}}}{5 + S_{ji} + S_{ij}^{\\frac{2}{3}}}$$"
   ]
  },
  {
   "cell_type": "code",
   "execution_count": 14,
   "metadata": {},
   "outputs": [],
   "source": [
    "def e_ij(Sij, Sji):\n",
    "    return (5 + Sij + np.power(Sij, 2.0/3.0))/(5+Sji+np.power(Sij, 2.0/3.0))\n",
    "def f(x):\n",
    "#     print(x)\n",
    "    return (0.05*x + np.square(x))/(2 + 0.05*x + np.square(x))\n",
    "\n",
    "def F(r_0, S, Sji):\n",
    "    for i in range(len(r_0)):\n",
    "        for j in range(len(r_0)):\n",
    "            r_0[i] += f(e_ij(S[i][j], Sji) * r_0[j])\n",
    "        r_0 = 1.0/len(r_0) * r_0\n",
    "    return r_0\n",
    "\n",
    "def get_r_function(r_0, S, Sji, max_iter=1000):\n",
    "    r = np.ones(len(r_0))\n",
    "    for i in range(max_iter):\n",
    "        r *= F(r_0, S, Sji)\n",
    "    return r\n",
    "        "
   ]
  },
  {
   "cell_type": "code",
   "execution_count": 15,
   "metadata": {},
   "outputs": [
    {
     "name": "stdout",
     "output_type": "stream",
     "text": [
      "________Team Scores________\n",
      "Denver Broncos: 0.0036\n",
      "Detroit Lions: 0.0034\n",
      "Kansas City Chiefs: 0.0028\n",
      "Oakland Raiders: 0.0021\n",
      "San Diego Chargers: 0.0013\n"
     ]
    }
   ],
   "source": [
    "r = get_r_function(r_0, S, 0, 1)\n",
    "print_rankings(r)"
   ]
  },
  {
   "cell_type": "code",
   "execution_count": 16,
   "metadata": {},
   "outputs": [
    {
     "data": {
      "text/plain": [
       "<matplotlib.legend.Legend at 0x7fe2a4de1828>"
      ]
     },
     "execution_count": 16,
     "metadata": {},
     "output_type": "execute_result"
    },
    {
     "data": {
      "image/png": "[encoded data removed]",
      "text/plain": [
       "<Figure size 432x288 with 1 Axes>"
      ]
     },
     "metadata": {},
     "output_type": "display_data"
    }
   ],
   "source": [
    "#Plot f(x):\n",
    "x = np.linspace(0, 5, 100)\n",
    "plt.plot(x, f(x), label=\"$f(x)$\")\n",
    "plt.xlabel(\"$x$\")\n",
    "plt.ylabel(\"$f(x)$\")\n",
    "plt.title(\"Plot of $f(x)$\")\n",
    "plt.legend()"
   ]
  },
  {
   "cell_type": "code",
   "execution_count": 17,
   "metadata": {},
   "outputs": [
    {
     "data": {
      "text/plain": [
       "<matplotlib.legend.Legend at 0x7fe2a4d9d828>"
      ]
     },
     "execution_count": 17,
     "metadata": {},
     "output_type": "execute_result"
    },
    {
     "data": {
      "image/png": "[encoded data removed]",
      "text/plain": [
       "<Figure size 432x288 with 1 Axes>"
      ]
     },
     "metadata": {},
     "output_type": "display_data"
    }
   ],
   "source": [
    "Sji = [0, 10, 20, 30, 40]\n",
    "x = np.linspace(0, 40, 100)\n",
    "y = np.ones(len(x))\n",
    "for sji in Sji:\n",
    "#     for i in range(len(S)):\n",
    "    plt.plot(Sji, e_ij(S.T[0], sji), label=r\"$S_{ji} = $\"+str(sji))\n",
    "\n",
    "plt.plot(x, y, '--', color=\"black\")\n",
    "plt.xlabel(r'$S_{ji}$')\n",
    "plt.ylabel(r'$e_{ij}$')\n",
    "plt.title(\"Plot of $S_{ji}$ vs. $e_{ij}$ (as a function of score) for the Denver Broncos\")\n",
    "plt.legend()"
   ]
  },
  {
   "cell_type": "markdown",
   "metadata": {},
   "source": [
    "Probability that team $i$ will beat team $j$ given their rankings $r_i$ and $r_j$:\n",
    "$$\\pi_{ij} = \\frac{r_i}{r_i + r_j}$$\n",
    "$$\\pi_{ji}r_i - \\pi_{ij}r_j = 0$$\n",
    "\n",
    "$$ \\lim_{n \\to \\infty} \\frac{(B + \\lambda_0 I)^{-n}\\mathbf{r}_0}{|(B + \\lambda_0 I)^{-n}\\mathbf{r}_0|} = \\mathbf{r}$$\n"
   ]
  },
  {
   "cell_type": "code",
   "execution_count": 18,
   "metadata": {},
   "outputs": [],
   "source": [
    "#Get B:\n",
    "B = np.zeros(S.shape)\n",
    "for i in range(S.shape[0]):\n",
    "    for j in range(S.shape[1]):\n",
    "        if i != j:\n",
    "            B[i][j] = - S[i][j] * S[j][i]\n",
    "\n",
    "for i in range(S.shape[0]):\n",
    "    for k in range(S.shape[1]):\n",
    "        B[i][i] += np.square(S[i][k])\n",
    "\n",
    "#Find lambda_0:\n",
    "def dd_check(A):\n",
    "    A_ii = np.diag(np.abs(A))\n",
    "    sum = np.sum(np.abs(A), axis=1) - A_ii\n",
    "    if np.all(A_ii > sum):\n",
    "        return True\n",
    "    else:\n",
    "        return False\n",
    "step = 5\n",
    "lambda_0 = 1\n",
    "max_iter = 1000\n",
    "I = np.eye(B.shape[0])\n",
    "for i in range(max_iter):\n",
    "    if dd_check(B + lambda_0 * I):\n",
    "        break\n",
    "    else:\n",
    "        lambda_0 += step\n",
    "    if i+1 == max_iter:\n",
    "        print(\"Unable to make B diagonally dominant\")\n",
    "# print(B+lambda_0 * I)"
   ]
  },
  {
   "cell_type": "code",
   "execution_count": 19,
   "metadata": {},
   "outputs": [],
   "source": [
    "def get_r(B, lambda_0, r_0, max_iter=1000):\n",
    "    I = np.eye(B.shape[0])\n",
    "    return (np.linalg.matrix_power(np.linalg.inv(B + lambda_0*I), max_iter)@r_0)/\\\n",
    "            (np.linalg.norm(np.linalg.matrix_power(np.linalg.inv(B + lambda_0*I), max_iter)@r_0))"
   ]
  },
  {
   "cell_type": "code",
   "execution_count": 26,
   "metadata": {},
   "outputs": [],
   "source": [
    "r_0 = np.random.sample(size=B.shape[0])\n",
    "r = get_r(B, lambda_0, r_0, 10) \n",
    "#As max_iter -> infty, the inverse of B+lambda_0I ->0. \n",
    "#Need to keep max_iter low to deal with this\n"
   ]
  },
  {
   "cell_type": "code",
   "execution_count": null,
   "metadata": {},
   "outputs": [],
   "source": []
  }
 ],
 "metadata": {
  "kernelspec": {
   "display_name": "Python 3",
   "language": "python",
   "name": "python3"
  },
  "language_info": {
   "codemirror_mode": {
    "name": "ipython",
    "version": 3
   },
   "file_extension": ".py",
   "mimetype": "text/x-python",
   "name": "python",
   "nbconvert_exporter": "python",
   "pygments_lexer": "ipython3",
   "version": "3.6.5"
  }
 },
 "nbformat": 4,
 "nbformat_minor": 2
}
